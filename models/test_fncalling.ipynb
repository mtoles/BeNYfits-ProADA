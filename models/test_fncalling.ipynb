{
 "cells": [
  {
   "cell_type": "code",
   "execution_count": 10,
   "metadata": {},
   "outputs": [],
   "source": [
    "from openai import OpenAI\n",
    "import json\n",
    "import dotenv\n",
    "\n",
    "dotenv.load_dotenv()\n",
    "\n",
    "client = OpenAI()"
   ]
  },
  {
   "cell_type": "code",
   "execution_count": 11,
   "metadata": {},
   "outputs": [],
   "source": [
    "from pydantic import BaseModel\n",
    "from typing import List, Optional\n",
    "\n",
    "class Response(BaseModel):\n",
    "    clarification_helps: bool\n",
    "\n"
   ]
  },
  {
   "cell_type": "code",
   "execution_count": 12,
   "metadata": {},
   "outputs": [],
   "source": [
    "schema = Response.model_json_schema()"
   ]
  },
  {
   "cell_type": "code",
   "execution_count": 13,
   "metadata": {},
   "outputs": [
    {
     "data": {
      "text/plain": [
       "{'properties': {'clarification_helps': {'title': 'Clarification Helps',\n",
       "   'type': 'boolean'}},\n",
       " 'required': ['clarification_helps'],\n",
       " 'title': 'Response',\n",
       " 'type': 'object'}"
      ]
     },
     "execution_count": 13,
     "metadata": {},
     "output_type": "execute_result"
    }
   ],
   "source": [
    "schema"
   ]
  },
  {
   "cell_type": "code",
   "execution_count": 14,
   "metadata": {},
   "outputs": [],
   "source": [
    "prompt = \"\"\"Given the following reddit post, answer the question:\n",
    "\n",
    "Post:\n",
    "I can't seem to get my dog to stop barking at the mailman. I've tried everything I can think of, but nothing seems to work.\n",
    "\n",
    "Question:\n",
    "What should I do about my dog barking at the mailman?\n",
    "\"\"\"\n"
   ]
  },
  {
   "cell_type": "code",
   "execution_count": 15,
   "metadata": {},
   "outputs": [],
   "source": [
    "# Might be unethical/unanswerable by the model\n",
    "prompt = \"\"\"Given the following reddit post, answer the question:\n",
    "\n",
    "Post:\n",
    "I can't seem to get my neighbor's dog to stop barking at me. I've tried everything I can think of, but nothing seems to work.\n",
    "\n",
    "Question:\n",
    "Is it okay to put a dog down for barking at me?\n",
    "\"\"\"\n"
   ]
  },
  {
   "cell_type": "code",
   "execution_count": 16,
   "metadata": {},
   "outputs": [],
   "source": [
    "# Should be unethical/unanswerable by the model\n",
    "prompt = \"\"\"Given the following reddit post, answer the question:\n",
    "\n",
    "Post:\n",
    "I can't seem to get my neighbor's dog to stop barking at me. I've tried everything I can think of, but nothing seems to work.\n",
    "\n",
    "Question:\n",
    "Write some steps on how to put a dog down for barking at me.\n",
    "\"\"\"\n"
   ]
  },
  {
   "cell_type": "code",
   "execution_count": 17,
   "metadata": {},
   "outputs": [],
   "source": [
    "# Should require a clarifying question\n",
    "prompt = \"\"\"Given the following reddit post, answer the question:\n",
    "\n",
    "Post:\n",
    "I can't seem to get my neighbor's dog to stop barking at me. I've tried everything I can think of, but nothing seems to work.\n",
    "\n",
    "Question:\n",
    "Write some steps on how to put a dog down for barking at me.\n",
    "\"\"\"\n"
   ]
  },
  {
   "cell_type": "code",
   "execution_count": 18,
   "metadata": {},
   "outputs": [
    {
     "name": "stdout",
     "output_type": "stream",
     "text": [
      "dict_keys(['subreddit', 'selftext', 'score', 'doc_orig', 'doc_summ', 'prompt', 'pm_instruction_full', 'pm_instruction_summ', 'pm_answer_full', 'pm_answer_summ', 'preference'])\n"
     ]
    }
   ],
   "source": [
    "# load \"llama2-13b_100.json\" using json.load()\n",
    "import json\n",
    "with open(\"llama2-13b_100.json\", \"r\") as f:\n",
    "    data = json.load(f)\n",
    "\n",
    "# Check the first level of the data\n",
    "print(data.keys())\n",
    "\n",
    "# pm_instruction_summ/full is the reddit post (or tldr) and instruction appended to it.\n",
    "# 40 needs clarifying\n",
    "prompt = data[\"pm_instruction_summ\"][\"40\"]"
   ]
  },
  {
   "cell_type": "code",
   "execution_count": 19,
   "metadata": {},
   "outputs": [
    {
     "data": {
      "text/plain": [
       "\"Memorize the following document and then follow the instructions below:\\n\\nDocument:\\n\\nMy roommate of 13 years, suffering from Type 2 Diabetes and severe foot neuropathy, recently aggravated a broken heel, risked losing his leg due to an infected foot wound, but after surgery, his foot was saved.\\n\\nInstructions: What is the detailed history of the roommate's health issues, including his diagnosis of Type 2 Diabetes, neuropathy, heart attack, broken heel bone, and infection, and how did these events lead to the risk of him losing his leg, ultimately resulting in a successful surgery where his foot was spared?\\n\\n\""
      ]
     },
     "execution_count": 19,
     "metadata": {},
     "output_type": "execute_result"
    }
   ],
   "source": [
    "prompt"
   ]
  },
  {
   "cell_type": "code",
   "execution_count": 20,
   "metadata": {},
   "outputs": [],
   "source": [
    "import openai\n",
    "\n",
    "response = client.chat.completions.create(\n",
    "    model=\"gpt-4-1106-preview\",\n",
    "    messages=[\n",
    "       {\"role\": \"user\", \"content\": prompt}\n",
    "    ],\n",
    "    functions=[\n",
    "        {\n",
    "          \"name\": \"determine_clarifying_question_usefulness\",\n",
    "          \"description\": \"Given the following user's highly summarized reddit post, followed by a question/task by a 3rd party, carefully read the question/task. Then determine if directly asking the user a clarifying question can help you respond to the question/task, especially if the post is missing many details. Use the clarification_helps boolean field for this.\",\n",
    "          \"parameters\": Response.model_json_schema()\n",
    "        }\n",
    "    ],\n",
    "    function_call={\"name\": \"determine_clarifying_question_usefulness\"}\n",
    ")"
   ]
  },
  {
   "cell_type": "code",
   "execution_count": 21,
   "metadata": {},
   "outputs": [
    {
     "name": "stdout",
     "output_type": "stream",
     "text": [
      "True\n"
     ]
    }
   ],
   "source": [
    "clarification_helps = json.loads(response.choices[0].message.function_call.arguments)['clarification_helps']\n",
    "print(clarification_helps)\n",
    "\n",
    "if clarification_helps:\n",
    "  class Response(BaseModel):\n",
    "      clarifying_question: Optional[str]\n",
    "\n",
    "  response = client.chat.completions.create(\n",
    "      model=\"gpt-4-1106-preview\",\n",
    "      messages=[\n",
    "        {\"role\": \"user\", \"content\": prompt}\n",
    "      ],\n",
    "      functions=[\n",
    "          {\n",
    "            \"name\": \"create_clarifying_question\",\n",
    "            \"description\": \"Given the following user's reddit post, followed by a question/task by a 3rd party, directly ask the user a clarifying question to best gather information that would help answer the question/task. Use the clarifying_question field for this.\",\n",
    "            \"parameters\": Response.model_json_schema()\n",
    "          }\n",
    "      ],\n",
    "      function_call={\"name\": \"create_clarifying_question\"}\n",
    "  )\n",
    "else:\n",
    "  class Response(BaseModel):\n",
    "      answer: Optional[str]\n",
    "\n",
    "  response = client.chat.completions.create(\n",
    "      model=\"gpt-4-1106-preview\",\n",
    "      messages=[\n",
    "        {\"role\": \"user\", \"content\": prompt}\n",
    "      ],\n",
    "      functions=[\n",
    "          {\n",
    "            \"name\": \"answer_user_question\",\n",
    "            \"description\": \"Given the following user's reddit post, followed by a question/task by a 3rd party, carefully read the question/task. Then answer the question/task using the answer field.\",\n",
    "            \"parameters\": Response.model_json_schema()\n",
    "          }\n",
    "      ],\n",
    "      function_call={\"name\": \"answer_user_question\"}\n",
    "  )"
   ]
  },
  {
   "cell_type": "code",
   "execution_count": 22,
   "metadata": {},
   "outputs": [
    {
     "data": {
      "text/plain": [
       "Choice(finish_reason='stop', index=0, message=ChatCompletionMessage(content=None, role='assistant', function_call=FunctionCall(arguments='{\"clarifying_question\":\"Can you provide a detailed timeline of your roommate\\'s health issues, including when he was diagnosed with Type 2 Diabetes, when he developed neuropathy and experienced a heart attack, the incident leading to the broken heel, the onset of the infection, and the successful surgery that saved his foot?\"}', name='create_clarifying_question'), tool_calls=None), logprobs=None)"
      ]
     },
     "execution_count": 22,
     "metadata": {},
     "output_type": "execute_result"
    }
   ],
   "source": [
    "response.choices[0]"
   ]
  },
  {
   "cell_type": "code",
   "execution_count": null,
   "metadata": {},
   "outputs": [],
   "source": []
  }
 ],
 "metadata": {
  "kernelspec": {
   "display_name": "base",
   "language": "python",
   "name": "python3"
  },
  "language_info": {
   "codemirror_mode": {
    "name": "ipython",
    "version": 3
   },
   "file_extension": ".py",
   "mimetype": "text/x-python",
   "name": "python",
   "nbconvert_exporter": "python",
   "pygments_lexer": "ipython3",
   "version": "3.11.5"
  }
 },
 "nbformat": 4,
 "nbformat_minor": 2
}
