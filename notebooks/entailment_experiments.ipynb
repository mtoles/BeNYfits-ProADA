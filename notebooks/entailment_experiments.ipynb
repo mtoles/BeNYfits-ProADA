{
  "nbformat": 4,
  "nbformat_minor": 0,
  "metadata": {
    "colab": {
      "provenance": [],
      "gpuType": "T4"
    },
    "kernelspec": {
      "name": "python3",
      "display_name": "Python 3"
    },
    "language_info": {
      "name": "python"
    },
    "accelerator": "GPU"
  },
  "cells": [
    {
      "cell_type": "markdown",
      "source": [
        "## Defining Global Variables\n",
        "\n"
      ],
      "metadata": {
        "id": "Amc6uEI1G7OK"
      }
    },
    {
      "cell_type": "code",
      "source": [
        "device = 'cuda'\n",
        "\n",
        "TLDR_CSV_PATH = '/content/drive/MyDrive/tldr-all-summaries.csv'\n",
        "GPT_SUMMARIES_PATH = '/content/drive/MyDrive/llama2-13b_100.json'\n",
        "tldrs = ['TLDR', 'TL;DR', 'TL:DR', 'TL: DR', 'TL; DR', 'TL DR', 'TL, DR', 'TL,DR']"
      ],
      "metadata": {
        "id": "dwIPwdVbYgHP"
      },
      "execution_count": null,
      "outputs": []
    },
    {
      "cell_type": "markdown",
      "source": [
        "## TLDR Extraction\n",
        "\n",
        "<ul>\n",
        "  <li> We first split the post over \"TLDR\", and divide in into two sections: \"before TLDR\" and \"after TLDR\". The following TLDR formats were considered:\n",
        "  \n",
        "  `['TLDR', 'TL;DR', 'TL:DR', 'TL: DR', 'TL; DR', 'TL DR', 'TL, DR', 'TL,DR']`\n",
        "\n",
        "  The part before TLDR is assumed to be the post and the part after is the TLDR summary.\n",
        "\n",
        "  <li> As an additional filtering step, we remove all those (post, tldr) pairs that have length of tldr > 0.1 * length of the post.\n",
        "  \n",
        "</ul>"
      ],
      "metadata": {
        "id": "krpgjxObHMkb"
      }
    },
    {
      "cell_type": "code",
      "source": [
        "import csv\n",
        "\n",
        "pairs = []\n",
        "\n",
        "with open(TLDR_CSV_PATH, 'r') as fin:\n",
        "  reader = csv.DictReader(fin)\n",
        "  tldr_found = None\n",
        "\n",
        "  for row in reader:\n",
        "    text = row['selftext']\n",
        "\n",
        "    for tldr in tldrs:\n",
        "      if tldr in text:\n",
        "        tldr_found = tldr\n",
        "        break\n",
        "\n",
        "    if not tldr_found:\n",
        "      continue\n",
        "\n",
        "    tldr_split = text.split(tldr_found)\n",
        "\n",
        "    if len(tldr_split) != 2:\n",
        "      continue\n",
        "\n",
        "    post, tldr = tldr_split\n",
        "\n",
        "    if len(post) == 0:\n",
        "      continue\n",
        "\n",
        "    if len(tldr) / len(post) > 0.1:\n",
        "      continue\n",
        "\n",
        "    pairs.append([post, tldr])"
      ],
      "metadata": {
        "id": "nj-kZsDHXk--"
      },
      "execution_count": null,
      "outputs": []
    },
    {
      "cell_type": "markdown",
      "source": [
        "## Loading GPT summaries\n",
        "\n",
        "We use also use a prompt-based GPT summarizer as an alternative to TLDR summaries."
      ],
      "metadata": {
        "id": "w-IGAW-LJvdI"
      }
    },
    {
      "cell_type": "code",
      "source": [
        "import json\n",
        "\n",
        "with open(GPT_SUMMARIES_PATH, 'r') as fin:\n",
        "  content = json.loads(fin.read())"
      ],
      "metadata": {
        "id": "xq_ijmMwcqK5"
      },
      "execution_count": null,
      "outputs": []
    },
    {
      "cell_type": "markdown",
      "source": [
        "## Creating the Entailment Model\n",
        "\n",
        "We use the `roberta-large-snli_mnli_fever_anli_R1_R2_R3-nli` model from Huggingface, which was trained on the SNLI dataset.\n",
        "\n",
        "It labels pairs of texts (premise, hypothesis) into one of these three classes\n",
        "\n",
        "<ol>\n",
        "<li> \"entailment\"\n",
        "<li> \"neutral\"\n",
        "<li> \"contradiction\"\n",
        "</ol>"
      ],
      "metadata": {
        "id": "PGieS6cDIOdn"
      }
    },
    {
      "cell_type": "code",
      "source": [
        "from transformers import AutoTokenizer, AutoModelForSequenceClassification\n",
        "\n",
        "hg_model_hub_name = \"ynie/roberta-large-snli_mnli_fever_anli_R1_R2_R3-nli\"\n",
        "\n",
        "tokenizer = AutoTokenizer.from_pretrained(hg_model_hub_name)\n",
        "model = AutoModelForSequenceClassification.from_pretrained(hg_model_hub_name)\n",
        "model = model.to(device)"
      ],
      "metadata": {
        "colab": {
          "base_uri": "https://localhost:8080/"
        },
        "id": "zOscrrTUX_Zp",
        "outputId": "e5b30c1e-f84c-4a04-be56-1ddd5a9a1717"
      },
      "execution_count": null,
      "outputs": [
        {
          "output_type": "stream",
          "name": "stderr",
          "text": [
            "/usr/local/lib/python3.10/dist-packages/huggingface_hub/utils/_token.py:88: UserWarning: \n",
            "The secret `HF_TOKEN` does not exist in your Colab secrets.\n",
            "To authenticate with the Hugging Face Hub, create a token in your settings tab (https://huggingface.co/settings/tokens), set it as secret in your Google Colab and restart your session.\n",
            "You will be able to reuse this secret in all of your notebooks.\n",
            "Please note that authentication is recommended but still optional to access public models or datasets.\n",
            "  warnings.warn(\n",
            "Some weights of the model checkpoint at ynie/roberta-large-snli_mnli_fever_anli_R1_R2_R3-nli were not used when initializing RobertaForSequenceClassification: ['roberta.pooler.dense.weight', 'roberta.pooler.dense.bias']\n",
            "- This IS expected if you are initializing RobertaForSequenceClassification from the checkpoint of a model trained on another task or with another architecture (e.g. initializing a BertForSequenceClassification model from a BertForPreTraining model).\n",
            "- This IS NOT expected if you are initializing RobertaForSequenceClassification from the checkpoint of a model that you expect to be exactly identical (initializing a BertForSequenceClassification model from a BertForSequenceClassification model).\n"
          ]
        }
      ]
    },
    {
      "cell_type": "markdown",
      "source": [
        "# Compute Entailment Subroutine\n",
        "\n",
        "The `compute_entailment` subroutine computes the entailment scores of pairs of sentences (premise, hypothesis), given the tokenizer and the model."
      ],
      "metadata": {
        "id": "OnaTDMfQI0Tp"
      }
    },
    {
      "cell_type": "code",
      "source": [
        "import torch\n",
        "\n",
        "def compute_entailment(premise, hypothesis, tokenizer, model, max_length=256):\n",
        "\n",
        "    tokenized_input_seq_pair = tokenizer.encode_plus(premise, hypothesis,\n",
        "                                                     max_length=max_length,\n",
        "                                                     return_token_type_ids=True, truncation=True)\n",
        "\n",
        "    input_ids = torch.Tensor(tokenized_input_seq_pair['input_ids']).long().unsqueeze(0).to(device)\n",
        "\n",
        "    token_type_ids = torch.Tensor(tokenized_input_seq_pair['token_type_ids']).long().unsqueeze(0).to(device)\n",
        "    attention_mask = torch.Tensor(tokenized_input_seq_pair['attention_mask']).long().unsqueeze(0).to(device)\n",
        "\n",
        "    outputs = model(input_ids,\n",
        "                    attention_mask=attention_mask,\n",
        "                    token_type_ids=token_type_ids,\n",
        "                    labels=None)\n",
        "\n",
        "    predicted_probability = torch.softmax(outputs[0], dim=1)[0].tolist()  # batch_size only one\n",
        "\n",
        "    return predicted_probability[0]"
      ],
      "metadata": {
        "id": "4YXYNugIYKh6"
      },
      "execution_count": null,
      "outputs": []
    },
    {
      "cell_type": "code",
      "source": [
        "import pysbd\n",
        "seg = pysbd.Segmenter(language=\"en\", clean=False)"
      ],
      "metadata": {
        "id": "iYicyfKjZyqW"
      },
      "execution_count": null,
      "outputs": []
    },
    {
      "cell_type": "markdown",
      "source": [
        "## Negative sampling\n",
        "\n",
        "We generate negative samples: The posts are paired with any random summary (execpt the one that corresponds to the post) from the corpus. The difference in entailment scores over original (positive) samples and opposite (negative) samples will give use a fair idea about the distribution of examples."
      ],
      "metadata": {
        "id": "aFAOuUFCJWlx"
      }
    },
    {
      "cell_type": "code",
      "source": [
        "import random\n",
        "\n",
        "def generate_opposite_pairs(pairs):\n",
        "  opp_pairs = []\n",
        "\n",
        "  for pair in pairs:\n",
        "\n",
        "    _, random_tldr = random.choice(pairs)\n",
        "\n",
        "    while random_tldr == pair[1]:\n",
        "      _, random_tldr = random.choice(pairs)\n",
        "\n",
        "    # Negative sampling\n",
        "    opp_pairs.append([pair[0], random_tldr])\n",
        "\n",
        "  return opp_pairs"
      ],
      "metadata": {
        "id": "p5l9b8_NeQxI"
      },
      "execution_count": null,
      "outputs": []
    },
    {
      "cell_type": "markdown",
      "source": [
        "## Get Entailment Scores Subroutine\n",
        "\n",
        "The `get_entailment_scores` subroutine will iterate over pairs summaries of each post matched with each sentence from the post and compute the entailment scores over these pairs.\n",
        "\n",
        "Note that the premise of every example will be the summary of the whole post, while the hypothesis will be an individual sentence from the post. This is done to deal with the strict limit of 256 input tokens in Roberta SNLI model."
      ],
      "metadata": {
        "id": "dt7g1C1XK2kc"
      }
    },
    {
      "cell_type": "code",
      "source": [
        "import numpy as np\n",
        "\n",
        "def get_entailment_scores(pairs):\n",
        "  entailments = []\n",
        "\n",
        "  i = 0\n",
        "\n",
        "  for post, summary in pairs[:100]:\n",
        "    i += 1\n",
        "\n",
        "    sentences = seg.segment(post)\n",
        "\n",
        "    for sentence in sentences:\n",
        "      score = compute_entailment(summary, sentence, tokenizer, model)\n",
        "      entailments.append(score)\n",
        "\n",
        "  return entailments"
      ],
      "metadata": {
        "id": "f5XxiPl6e8G3"
      },
      "execution_count": null,
      "outputs": []
    },
    {
      "cell_type": "markdown",
      "source": [
        "## Generating Entailment Scores and Percentiles\n",
        "\n",
        "\n",
        "We generate entailment scores over positive and negative summaries in both TLDR and GPT summarized datasets. We also generate percentile scores of entailment scores in all the sets (positive TLDR, negative TLDR, positive GPT, and negative GPT) to get a sense of the distribution."
      ],
      "metadata": {
        "id": "bzqsEPYzKZD5"
      }
    },
    {
      "cell_type": "code",
      "source": [
        "percentiles = np.arange(0, 110, 10)"
      ],
      "metadata": {
        "id": "-s9CgxTWmzJ5"
      },
      "execution_count": null,
      "outputs": []
    },
    {
      "cell_type": "code",
      "source": [
        "import numpy as np\n",
        "\n",
        "tldr_entailments = get_entailment_scores(pairs)\n",
        "\n",
        "tldr_percentile_values = np.percentile(tldr_entailments, percentiles)\n",
        "\n",
        "print(np.mean(tldr_entailments))"
      ],
      "metadata": {
        "colab": {
          "base_uri": "https://localhost:8080/"
        },
        "id": "PDVWok5lZ5rl",
        "outputId": "5c938a2d-a892-47fc-c894-305048082710"
      },
      "execution_count": null,
      "outputs": [
        {
          "output_type": "stream",
          "name": "stdout",
          "text": [
            "0.04980334163125933\n"
          ]
        }
      ]
    },
    {
      "cell_type": "code",
      "source": [
        "opp_pairs = generate_opposite_pairs(pairs)"
      ],
      "metadata": {
        "id": "L4__CamNaJz7"
      },
      "execution_count": null,
      "outputs": []
    },
    {
      "cell_type": "code",
      "source": [
        "import numpy as np\n",
        "\n",
        "tldr_opp_entailments = get_entailment_scores(opp_pairs)\n",
        "\n",
        "tldr_opp_percentile_values = np.percentile(tldr_opp_entailments, percentiles)\n",
        "\n",
        "print(np.mean(tldr_opp_entailments))"
      ],
      "metadata": {
        "colab": {
          "base_uri": "https://localhost:8080/"
        },
        "id": "rqlXvbfZb22P",
        "outputId": "0028b071-5873-4d77-c6c2-d07682cee939"
      },
      "execution_count": null,
      "outputs": [
        {
          "output_type": "stream",
          "name": "stdout",
          "text": [
            "0.016867593710402407\n"
          ]
        }
      ]
    },
    {
      "cell_type": "markdown",
      "source": [
        "## TLDR scores:\n",
        "\n",
        "Mean entailment of positive pairs = 4.98 %\n",
        "\n",
        "Mean entailment of negative pairs = 1.68 %"
      ],
      "metadata": {
        "id": "N7sbibLlLpsu"
      }
    },
    {
      "cell_type": "code",
      "source": [
        "pairs = [(post, summary) for post, summary in zip(content['selftext'].values(), content['doc_summ'].values())]"
      ],
      "metadata": {
        "id": "rciNCiS2grh5"
      },
      "execution_count": null,
      "outputs": []
    },
    {
      "cell_type": "code",
      "source": [
        "import numpy as np\n",
        "\n",
        "gpt_entailments = get_entailment_scores(pairs)\n",
        "\n",
        "gpt_percentile_values = np.percentile(gpt_entailments, percentiles)\n",
        "\n",
        "print(np.mean(gpt_entailments))"
      ],
      "metadata": {
        "colab": {
          "base_uri": "https://localhost:8080/"
        },
        "id": "5JxV9zs8dqu-",
        "outputId": "913e17e9-04eb-4650-8a19-e2142dfa9083"
      },
      "execution_count": null,
      "outputs": [
        {
          "output_type": "stream",
          "name": "stdout",
          "text": [
            "0.06702755333792636\n"
          ]
        }
      ]
    },
    {
      "cell_type": "code",
      "source": [
        "opp_pairs = generate_opposite_pairs(pairs)"
      ],
      "metadata": {
        "id": "-cjLcGF4hCz3"
      },
      "execution_count": null,
      "outputs": []
    },
    {
      "cell_type": "code",
      "source": [
        "import numpy as np\n",
        "\n",
        "gpt_opp_entailments = get_entailment_scores(opp_pairs)\n",
        "\n",
        "gpt_opp_percentile_values = np.percentile(gpt_opp_entailments, percentiles)\n",
        "\n",
        "print(np.mean(gpt_opp_entailments))"
      ],
      "metadata": {
        "colab": {
          "base_uri": "https://localhost:8080/"
        },
        "id": "biSj617xdx9E",
        "outputId": "b50fb9a5-2c3f-4bbc-937a-113650f8c7f1"
      },
      "execution_count": null,
      "outputs": [
        {
          "output_type": "stream",
          "name": "stdout",
          "text": [
            "0.010512935983669078\n"
          ]
        }
      ]
    },
    {
      "cell_type": "markdown",
      "source": [
        "## GPT scores:\n",
        "\n",
        "Mean entailment of positive pairs = 6.70 %\n",
        "\n",
        "Mean entailment of negative pairs = 1.05 %"
      ],
      "metadata": {
        "id": "cZgKPjO3L4Ue"
      }
    },
    {
      "cell_type": "markdown",
      "source": [
        "## Percentile Plots"
      ],
      "metadata": {
        "id": "S89gRbAHMDQJ"
      }
    },
    {
      "cell_type": "code",
      "source": [
        "import matplotlib.pyplot as plt\n",
        "import seaborn as sns\n",
        "\n",
        "# Create a 2x2 grid of subplots\n",
        "fig, axes = plt.subplots(2, 2, figsize=(10, 8))\n",
        "\n",
        "# Percentile Plots\n",
        "axes[0, 0].plot(percentiles, tldr_percentile_values, marker='o', linestyle='None', color='b')\n",
        "axes[0, 0].set_title('Percentile Plot - TLDR positive pairs')\n",
        "axes[0, 0].set_xlabel('Percentile')\n",
        "axes[0, 0].set_ylabel('Entailment Score')\n",
        "axes[0, 0].set_xticks(percentiles)\n",
        "\n",
        "axes[0, 1].plot(percentiles, tldr_opp_percentile_values, marker='o', linestyle='None', color='b')\n",
        "axes[0, 1].set_title('Percentile Plot - TLDR opposite pairs')\n",
        "axes[0, 1].set_xlabel('Percentile')\n",
        "axes[0, 1].set_ylabel('Entailment Score')\n",
        "axes[0, 1].set_xticks(percentiles)\n",
        "\n",
        "axes[1, 0].plot(percentiles, gpt_percentile_values, marker='o', linestyle='None', color='b')\n",
        "axes[1, 0].set_title('Percentile Plot - GPT positive pairs')\n",
        "axes[1, 0].set_xlabel('Percentile')\n",
        "axes[1, 0].set_ylabel('Entailment Score')\n",
        "axes[1, 0].set_xticks(percentiles)\n",
        "\n",
        "axes[1, 1].plot(percentiles, gpt_opp_percentile_values, marker='o', linestyle='None', color='b')\n",
        "axes[1, 1].set_title('Percentile Plot - GPT opposite pairs')\n",
        "axes[1, 1].set_xlabel('Percentile')\n",
        "axes[1, 1].set_ylabel('Entailment Score')\n",
        "axes[1, 1].set_xticks(percentiles)\n",
        "\n",
        "# Adjust layout and show the plots\n",
        "plt.tight_layout()\n",
        "plt.show()\n"
      ],
      "metadata": {
        "colab": {
          "base_uri": "https://localhost:8080/",
          "height": 807
        },
        "id": "49h4lfOCeFDW",
        "outputId": "94ea6020-96c6-41f7-830b-066209d140e6"
      },
      "execution_count": null,
      "outputs": [
        {
          "output_type": "display_data",
          "data": {
            "text/plain": [
              "<Figure size 1000x800 with 4 Axes>"
            ],
            "image/png": "[encoded data removed]"
          },
          "metadata": {}
        }
      ]
    },
    {
      "cell_type": "markdown",
      "source": [
        "## Results\n",
        "\n",
        "These results show a siginficant difference between positive and negative sets in both TLDR and GPT datasets, while there is little difference between the entailment scores of TLDR and GPT datasets for both positive and negative sets."
      ],
      "metadata": {
        "id": "oT6BubC8MB4J"
      }
    },
    {
      "cell_type": "code",
      "source": [],
      "metadata": {
        "id": "piV9pWe_lKQ_"
      },
      "execution_count": null,
      "outputs": []
    }
  ]
}